{
 "cells": [
  {
   "cell_type": "markdown",
   "id": "9d25d509",
   "metadata": {},
   "source": [
    "# Task 3. Algorithms for unconstrained nonlinear optimization. First- and second- order methods"
   ]
  },
  {
   "cell_type": "code",
   "execution_count": 236,
   "id": "265ca99d",
   "metadata": {},
   "outputs": [],
   "source": [
    "import matplotlib.pyplot as plt\n",
    "from collections.abc import Callable\n",
    "from functools import partial\n",
    "import numpy as np\n",
    "import pandas as pd"
   ]
  },
  {
   "cell_type": "code",
   "execution_count": 237,
   "id": "d7eee669",
   "metadata": {},
   "outputs": [],
   "source": [
    "import json\n",
    "\n",
    "with open('./../2/points.json') as file:\n",
    "    content = json.loads(file.read())\n",
    "    alpha = content['alpha']\n",
    "    beta = content['beta']\n",
    "    y = content['y']"
   ]
  },
  {
   "cell_type": "code",
   "execution_count": 238,
   "id": "7de70d18",
   "metadata": {},
   "outputs": [
    {
     "data": {
      "text/plain": [
       "<matplotlib.collections.PathCollection at 0xffff7b8f5f40>"
      ]
     },
     "execution_count": 238,
     "metadata": {},
     "output_type": "execute_result"
    },
    {
     "data": {
      "image/png": "[encoded data removed]",
      "text/plain": [
       "<Figure size 600x400 with 1 Axes>"
      ]
     },
     "metadata": {
      "needs_background": "light"
     },
     "output_type": "display_data"
    }
   ],
   "source": [
    "n = 101\n",
    "\n",
    "x = [x_k for x_k in range(n)]\n",
    "\n",
    "fig = plt.figure(dpi=100)\n",
    "ax = fig.add_subplot(1, 1, 1)\n",
    "ax.scatter(x, y)"
   ]
  },
  {
   "cell_type": "code",
   "execution_count": 239,
   "id": "f3a0d228",
   "metadata": {},
   "outputs": [],
   "source": [
    "def linear(x: float, a: float, b: float) -> float:\n",
    "    return a * x + b\n",
    "\n",
    "def rational(x: float, a: float, b: float) -> float:\n",
    "    return a / (1 + b * x)"
   ]
  },
  {
   "cell_type": "code",
   "execution_count": 240,
   "id": "e1c40cb3",
   "metadata": {},
   "outputs": [],
   "source": [
    "def least_squares(args, fn: Callable):\n",
    "    return sum([np.power(fn(x[i], args[0], args[1]) - y[i], 2) for i in range(n)])"
   ]
  },
  {
   "cell_type": "code",
   "execution_count": 241,
   "id": "7c27c503",
   "metadata": {},
   "outputs": [],
   "source": [
    "from scipy.optimize import minimize\n",
    "import math\n",
    "\n",
    "def gradient_descent(fn: Callable, gradient: Callable, x0, epsilon: float = 0.001):\n",
    "    a, b = x0\n",
    "    a_old, b_old = a, b\n",
    "    df_da, df_db = 1, 1\n",
    "    iters = 0\n",
    "    f_calculations = 0\n",
    "\n",
    "    while (math.fabs((fn(a, b) - fn(a_old, b_old)) / 2)) > epsilon or iters == 0:\n",
    "        f_calculations += 2\n",
    "        df_da_old, df_db_old = df_da, df_db\n",
    "        df_da, df_db = gradient(a, b)\n",
    "        if iters == 0:\n",
    "            lr = 0.001\n",
    "        else:\n",
    "            f1 = (np.array([a, b] - np.array([a_old, b_old])))\n",
    "            f2 = (np.array([df_da, df_db] - np.array([df_da_old, df_db_old])))\n",
    "            lr = np.mean(np.abs(f1 * f2) / (f2 ** 2))\n",
    "        a_old, b_old = a, b\n",
    "        a -= lr * df_da\n",
    "        b -= lr * df_db\n",
    "        \n",
    "        iters += 1\n",
    "\n",
    "    return a, b, iters, f_calculations"
   ]
  },
  {
   "cell_type": "code",
   "execution_count": 242,
   "id": "c03d7d5d",
   "metadata": {},
   "outputs": [
    {
     "data": {
      "text/plain": [
       "(0.6244035304808928, 0.17317992519878223, 21, 42)"
      ]
     },
     "execution_count": 242,
     "metadata": {},
     "output_type": "execute_result"
    }
   ],
   "source": [
    "def least_squares_linear_gradient(a: float, b: float) -> (float, float):\n",
    "    temp_a = []\n",
    "    temp_b = []\n",
    "    for k in range(n):\n",
    "        x = k / n\n",
    "        y_i = y[k]\n",
    "        temp_a.append(2 * x ** 2 * a + 2 * b * x - 2 * y_i * x)\n",
    "        temp_b.append(2 * b + 2 * a * x - 2 * y_i)\n",
    "    df_da = sum(temp_a)\n",
    "    df_db = sum(temp_b)\n",
    "    \n",
    "    return df_da, df_db\n",
    "\n",
    "least_squares_linear = lambda a, b: sum([(linear(k / n, a, b) - x[k]) ** 2 for k in range(n)])\n",
    "\n",
    "gd_result = gradient_descent(least_squares_linear, least_squares_linear_gradient, (0, 0))\n",
    "gd_a = gd_result[0]\n",
    "gd_b = gd_result[1]\n",
    "\n",
    "gd_result"
   ]
  },
  {
   "cell_type": "code",
   "execution_count": 243,
   "id": "143b6ac9",
   "metadata": {},
   "outputs": [],
   "source": [
    "def conjugate_gradient(fn: Callable, args, x0, epsilon: float = 0.001):\n",
    "    return minimize(\n",
    "        fn,\n",
    "        x0=x0,\n",
    "        method='CG',\n",
    "        args=(args,),\n",
    "        tol=epsilon\n",
    "    )"
   ]
  },
  {
   "cell_type": "code",
   "execution_count": 244,
   "id": "9a1ccc6a",
   "metadata": {},
   "outputs": [],
   "source": [
    "cg_result = conjugate_gradient(least_squares, linear, (0, 0))\n",
    "cg_a = cg_result.x[0]\n",
    "cg_b = cg_result.x[1]"
   ]
  },
  {
   "cell_type": "code",
   "execution_count": 245,
   "id": "b764a8fb",
   "metadata": {},
   "outputs": [],
   "source": [
    "from autograd import jacobian\n",
    "\n",
    "def newtons_method(fn: Callable, args, x0, epsilon: float = 0.001):\n",
    "    return minimize(\n",
    "        fn,\n",
    "        x0=x0,\n",
    "        method='Newton-CG',\n",
    "        args=(args,),\n",
    "        jac=jacobian(fn),\n",
    "        tol=epsilon\n",
    "    )"
   ]
  },
  {
   "cell_type": "code",
   "execution_count": 246,
   "id": "1eabd4f2",
   "metadata": {},
   "outputs": [],
   "source": [
    "nm_result = newtons_method(least_squares, linear, (0, 0))\n",
    "nm_a = nm_result.x[0]\n",
    "nm_b = nm_result.x[1]"
   ]
  },
  {
   "cell_type": "code",
   "execution_count": 247,
   "id": "13ad2721",
   "metadata": {},
   "outputs": [],
   "source": [
    "from scipy.optimize import curve_fit\n",
    "\n",
    "def levenberg_marquardt(fn: Callable, x: list[float], y: list[float]):\n",
    "    return curve_fit(\n",
    "        fn,\n",
    "        xdata=x,\n",
    "        ydata=y,\n",
    "        method='lm'\n",
    "    )"
   ]
  },
  {
   "cell_type": "code",
   "execution_count": 248,
   "id": "95287a18",
   "metadata": {},
   "outputs": [],
   "source": [
    "lm_result = levenberg_marquardt(linear, x, y)\n",
    "\n",
    "lm_a = lm_result[0][0]\n",
    "lm_b = lm_result[0][1]"
   ]
  },
  {
   "cell_type": "code",
   "execution_count": 249,
   "id": "4e2feaf2",
   "metadata": {},
   "outputs": [
    {
     "data": {
      "text/plain": [
       "<matplotlib.legend.Legend at 0xffff7b894df0>"
      ]
     },
     "execution_count": 249,
     "metadata": {},
     "output_type": "execute_result"
    },
    {
     "data": {
      "image/png": "[encoded data removed]",
      "text/plain": [
       "<Figure size 600x400 with 1 Axes>"
      ]
     },
     "metadata": {
      "needs_background": "light"
     },
     "output_type": "display_data"
    }
   ],
   "source": [
    "fig = plt.figure(dpi=100)\n",
    "ax = fig.add_subplot(1, 1, 1)\n",
    "    \n",
    "ax.scatter(range(n), y, zorder=1)\n",
    "ax.plot(range(n), [linear(x / n, alpha, beta) for x in range(n)], color='red', label=\"Truth\")\n",
    "ax.plot(range(n), [linear(x / n, gd_a, gd_b) for x in range(n)], color='pink', label='Gradient Descent')\n",
    "ax.plot(range(n), [linear(x / n, cg_a, cg_b) for x in range(n)], color='green', label='Conjugate Gradient')\n",
    "ax.plot(range(n), [linear(x / n, nm_a, nm_b) for x in range(n)], color='yellow', linestyle='dashed', label='Newton\\'s method')\n",
    "ax.plot(range(n), [linear(x / n, lm_a, lm_b) for x in range(n)], color='purple', linestyle='dotted', label='Levenberg Marquardt')\n",
    "ax.legend(loc='upper left')"
   ]
  },
  {
   "cell_type": "code",
   "execution_count": 250,
   "id": "159a5542",
   "metadata": {},
   "outputs": [
    {
     "data": {
      "text/html": [
       "<div>\n",
       "<style scoped>\n",
       "    .dataframe tbody tr th:only-of-type {\n",
       "        vertical-align: middle;\n",
       "    }\n",
       "\n",
       "    .dataframe tbody tr th {\n",
       "        vertical-align: top;\n",
       "    }\n",
       "\n",
       "    .dataframe thead th {\n",
       "        text-align: right;\n",
       "    }\n",
       "</style>\n",
       "<table border=\"1\" class=\"dataframe\">\n",
       "  <thead>\n",
       "    <tr style=\"text-align: right;\">\n",
       "      <th></th>\n",
       "      <th>Method</th>\n",
       "      <th>$a_{min}$</th>\n",
       "      <th>$b_{min}$</th>\n",
       "      <th>Iterations</th>\n",
       "      <th>F-Calculations</th>\n",
       "    </tr>\n",
       "  </thead>\n",
       "  <tbody>\n",
       "    <tr>\n",
       "      <th>0</th>\n",
       "      <td>Gradient Descent</td>\n",
       "      <td>0.624404</td>\n",
       "      <td>0.173180</td>\n",
       "      <td>21</td>\n",
       "      <td>42</td>\n",
       "    </tr>\n",
       "    <tr>\n",
       "      <th>1</th>\n",
       "      <td>Conjugate Gradient</td>\n",
       "      <td>0.006182</td>\n",
       "      <td>0.173181</td>\n",
       "      <td>2</td>\n",
       "      <td>15</td>\n",
       "    </tr>\n",
       "    <tr>\n",
       "      <th>2</th>\n",
       "      <td>Newton's method</td>\n",
       "      <td>0.006182</td>\n",
       "      <td>0.173179</td>\n",
       "      <td>2</td>\n",
       "      <td>24</td>\n",
       "    </tr>\n",
       "    <tr>\n",
       "      <th>3</th>\n",
       "      <td>Levenberg-Marquardt</td>\n",
       "      <td>0.006182</td>\n",
       "      <td>0.173179</td>\n",
       "      <td>n/a</td>\n",
       "      <td>n/a</td>\n",
       "    </tr>\n",
       "  </tbody>\n",
       "</table>\n",
       "</div>"
      ],
      "text/plain": [
       "                Method  $a_{min}$  $b_{min}$ Iterations F-Calculations\n",
       "0     Gradient Descent   0.624404   0.173180         21             42\n",
       "1   Conjugate Gradient   0.006182   0.173181          2             15\n",
       "2      Newton's method   0.006182   0.173179          2             24\n",
       "3  Levenberg-Marquardt   0.006182   0.173179        n/a            n/a"
      ]
     },
     "execution_count": 250,
     "metadata": {},
     "output_type": "execute_result"
    }
   ],
   "source": [
    "pd.DataFrame(\n",
    "    [\n",
    "        ['Gradient Descent', gd_a, gd_b, gd_result[2], gd_result[3]],\n",
    "        ['Conjugate Gradient', cg_a, cg_b, cg_result.nit, cg_result.nfev],\n",
    "        ['Newton\\'s method', nm_a, nm_b, nm_result.nit, nm_result.nfev],\n",
    "        ['Levenberg-Marquardt', lm_a, lm_b, 'n/a', 'n/a']\n",
    "    ],\n",
    "    columns=['Method', '$a_{min}$', '$b_{min}$', 'Iterations', 'F-Calculations']\n",
    ")"
   ]
  },
  {
   "cell_type": "code",
   "execution_count": 251,
   "id": "de092587",
   "metadata": {},
   "outputs": [
    {
     "data": {
      "text/plain": [
       "(0.27791101229014503, -0.7203379434468451, 43, 86)"
      ]
     },
     "execution_count": 251,
     "metadata": {},
     "output_type": "execute_result"
    }
   ],
   "source": [
    "def least_squares_rational_gradient(a, b) -> (float, float):\n",
    "    temp_a = []\n",
    "    temp_b = []\n",
    "    for k in range(n):\n",
    "        x = (k / n)\n",
    "        y_i = (y[k])\n",
    "\n",
    "        a_denominator = (1 + b * x) ** 2\n",
    "        temp_a.append(\n",
    "            - ((2 * x * b * y_i) / a_denominator)\n",
    "            + (2 * a / a_denominator)\n",
    "            - (2 * y_i / a_denominator)\n",
    "        )\n",
    "\n",
    "        temp_b.append(\n",
    "            -(2 * a * x * (a - y_i - x * b * y_i))\n",
    "            / ((b * x + 1) ** 3)\n",
    "        )\n",
    "    df_da = sum(temp_a)\n",
    "    df_db = sum(temp_b)\n",
    "    \n",
    "    return df_da, df_db\n",
    "\n",
    "least_squares_rational = lambda a, b: sum([(rational(k / n, a, b) - x[k]) ** 2 for k in range(n)])\n",
    "\n",
    "gd_result = gradient_descent(least_squares_rational, least_squares_rational_gradient, (0, 0))\n",
    "gd_a = gd_result[0]\n",
    "gd_b = gd_result[1]\n",
    "\n",
    "gd_result"
   ]
  },
  {
   "cell_type": "code",
   "execution_count": 252,
   "id": "03ab92af",
   "metadata": {},
   "outputs": [],
   "source": [
    "cg_result = conjugate_gradient(least_squares, rational, (0, 0))\n",
    "cg_a = cg_result.x[0]\n",
    "cg_b = cg_result.x[1]"
   ]
  },
  {
   "cell_type": "code",
   "execution_count": 253,
   "id": "087d46d0",
   "metadata": {},
   "outputs": [],
   "source": [
    "nm_result = newtons_method(least_squares, rational, (0, 0))\n",
    "nm_a = nm_result.x[0]\n",
    "nm_b = nm_result.x[1]"
   ]
  },
  {
   "cell_type": "code",
   "execution_count": 254,
   "id": "249b8552",
   "metadata": {},
   "outputs": [],
   "source": [
    "lm_result = levenberg_marquardt(rational, x, y)\n",
    "\n",
    "lm_a = lm_result[0][0]\n",
    "lm_b = lm_result[0][1]"
   ]
  },
  {
   "cell_type": "code",
   "execution_count": 255,
   "id": "1c361fe8",
   "metadata": {},
   "outputs": [
    {
     "data": {
      "text/plain": [
       "<matplotlib.legend.Legend at 0xffff7b8b6040>"
      ]
     },
     "execution_count": 255,
     "metadata": {},
     "output_type": "execute_result"
    },
    {
     "data": {
      "image/png": "[encoded data removed]",
      "text/plain": [
       "<Figure size 600x400 with 1 Axes>"
      ]
     },
     "metadata": {
      "needs_background": "light"
     },
     "output_type": "display_data"
    }
   ],
   "source": [
    "fig = plt.figure(dpi=100)\n",
    "ax = fig.add_subplot(1, 1, 1)\n",
    "    \n",
    "ax.scatter(range(n), y, zorder=1)\n",
    "ax.plot(range(n), [linear(x / n, alpha, beta) for x in range(n)], color='red', label=\"Truth\")\n",
    "ax.plot(range(n), [rational(x / n, gd_a, gd_b) for x in range(n)], color='pink', label='Gradient Descent')\n",
    "ax.plot(range(n), [rational(x / n, cg_a, cg_b) for x in range(n)], color='green', label='Conjugate Gradient')\n",
    "ax.plot(range(n), [rational(x / n, nm_a, nm_b) for x in range(n)], color='yellow', linestyle='dashed', label='Newton\\'s method')\n",
    "ax.plot(range(n), [rational(x / n, lm_a, lm_b) for x in range(n)], color='purple', linestyle='dotted', label='Levenberg Marquardt')\n",
    "ax.legend(loc='upper left')"
   ]
  },
  {
   "cell_type": "code",
   "execution_count": 256,
   "id": "58702990",
   "metadata": {},
   "outputs": [
    {
     "data": {
      "text/html": [
       "<div>\n",
       "<style scoped>\n",
       "    .dataframe tbody tr th:only-of-type {\n",
       "        vertical-align: middle;\n",
       "    }\n",
       "\n",
       "    .dataframe tbody tr th {\n",
       "        vertical-align: top;\n",
       "    }\n",
       "\n",
       "    .dataframe thead th {\n",
       "        text-align: right;\n",
       "    }\n",
       "</style>\n",
       "<table border=\"1\" class=\"dataframe\">\n",
       "  <thead>\n",
       "    <tr style=\"text-align: right;\">\n",
       "      <th></th>\n",
       "      <th>Method</th>\n",
       "      <th>$a_{min}$</th>\n",
       "      <th>$b_{min}$</th>\n",
       "      <th>Iterations</th>\n",
       "      <th>F-Calculations</th>\n",
       "    </tr>\n",
       "  </thead>\n",
       "  <tbody>\n",
       "    <tr>\n",
       "      <th>0</th>\n",
       "      <td>Gradient Descent</td>\n",
       "      <td>0.277911</td>\n",
       "      <td>-0.720338</td>\n",
       "      <td>43</td>\n",
       "      <td>86</td>\n",
       "    </tr>\n",
       "    <tr>\n",
       "      <th>1</th>\n",
       "      <td>Conjugate Gradient</td>\n",
       "      <td>0.277895</td>\n",
       "      <td>-0.007132</td>\n",
       "      <td>14</td>\n",
       "      <td>214</td>\n",
       "    </tr>\n",
       "    <tr>\n",
       "      <th>2</th>\n",
       "      <td>Newton's method</td>\n",
       "      <td>0.482233</td>\n",
       "      <td>-0.003426</td>\n",
       "      <td>3</td>\n",
       "      <td>8</td>\n",
       "    </tr>\n",
       "    <tr>\n",
       "      <th>3</th>\n",
       "      <td>Levenberg-Marquardt</td>\n",
       "      <td>0.277893</td>\n",
       "      <td>-0.007132</td>\n",
       "      <td>n/a</td>\n",
       "      <td>n/a</td>\n",
       "    </tr>\n",
       "  </tbody>\n",
       "</table>\n",
       "</div>"
      ],
      "text/plain": [
       "                Method  $a_{min}$  $b_{min}$ Iterations F-Calculations\n",
       "0     Gradient Descent   0.277911  -0.720338         43             86\n",
       "1   Conjugate Gradient   0.277895  -0.007132         14            214\n",
       "2      Newton's method   0.482233  -0.003426          3              8\n",
       "3  Levenberg-Marquardt   0.277893  -0.007132        n/a            n/a"
      ]
     },
     "execution_count": 256,
     "metadata": {},
     "output_type": "execute_result"
    }
   ],
   "source": [
    "pd.DataFrame(\n",
    "    [\n",
    "        ['Gradient Descent', gd_a, gd_b, gd_result[2], gd_result[3]],\n",
    "        ['Conjugate Gradient', cg_a, cg_b, cg_result.nit, cg_result.nfev],\n",
    "        ['Newton\\'s method', nm_a, nm_b, nm_result.nit, nm_result.nfev],\n",
    "        ['Levenberg-Marquardt', lm_a, lm_b, 'n/a', 'n/a']\n",
    "    ],\n",
    "    columns=['Method', '$a_{min}$', '$b_{min}$', 'Iterations', 'F-Calculations']\n",
    ")"
   ]
  }
 ],
 "metadata": {
  "kernelspec": {
   "display_name": "Python 3 (ipykernel)",
   "language": "python",
   "name": "python3"
  },
  "language_info": {
   "codemirror_mode": {
    "name": "ipython",
    "version": 3
   },
   "file_extension": ".py",
   "mimetype": "text/x-python",
   "name": "python",
   "nbconvert_exporter": "python",
   "pygments_lexer": "ipython3",
   "version": "3.9.12"
  }
 },
 "nbformat": 4,
 "nbformat_minor": 5
}
