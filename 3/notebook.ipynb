{
 "cells": [
  {
   "cell_type": "markdown",
   "id": "9d25d509",
   "metadata": {},
   "source": [
    "# Task 3. Algorithms for unconstrained nonlinear optimization. First- and second- order methods"
   ]
  },
  {
   "cell_type": "code",
   "execution_count": 1,
   "id": "265ca99d",
   "metadata": {},
   "outputs": [],
   "source": [
    "import matplotlib.pyplot as plt\n",
    "from collections.abc import Callable\n",
    "from functools import partial\n",
    "import numpy as np\n",
    "import pandas as pd"
   ]
  },
  {
   "cell_type": "code",
   "execution_count": 2,
   "id": "d7eee669",
   "metadata": {},
   "outputs": [],
   "source": [
    "import json\n",
    "\n",
    "with open('./../2/points.json') as file:\n",
    "    content = json.loads(file.read())\n",
    "    alpha = content['alpha']\n",
    "    beta = content['beta']\n",
    "    y = content['y']"
   ]
  },
  {
   "cell_type": "code",
   "execution_count": 3,
   "id": "7de70d18",
   "metadata": {},
   "outputs": [
    {
     "data": {
      "text/plain": [
       "<matplotlib.collections.PathCollection at 0xffff7a761f70>"
      ]
     },
     "execution_count": 3,
     "metadata": {},
     "output_type": "execute_result"
    },
    {
     "data": {
      "image/png": "[encoded data removed]",
      "text/plain": [
       "<Figure size 600x400 with 1 Axes>"
      ]
     },
     "metadata": {
      "needs_background": "light"
     },
     "output_type": "display_data"
    }
   ],
   "source": [
    "n = 101\n",
    "\n",
    "x = [x_k for x_k in range(n)]\n",
    "\n",
    "fig = plt.figure(dpi=100)\n",
    "ax = fig.add_subplot(1, 1, 1)\n",
    "ax.scatter(x, y)"
   ]
  },
  {
   "cell_type": "code",
   "execution_count": 4,
   "id": "f3a0d228",
   "metadata": {},
   "outputs": [],
   "source": [
    "def linear(x: float, a: float, b: float) -> float:\n",
    "    return a * x + b\n",
    "\n",
    "def rational(x: float, a: float, b: float) -> float:\n",
    "    return a / (1 + b * x)"
   ]
  },
  {
   "cell_type": "code",
   "execution_count": 5,
   "id": "e1c40cb3",
   "metadata": {},
   "outputs": [],
   "source": [
    "def least_squares(args, fn: Callable):\n",
    "    return sum([np.power(fn(x[i], args[0], args[1]) - y[i], 2) for i in range(n)])"
   ]
  },
  {
   "cell_type": "code",
   "execution_count": 6,
   "id": "a1311d36",
   "metadata": {},
   "outputs": [
    {
     "data": {
      "text/plain": [
       "      fun: 124.02109481374161\n",
       " hess_inv: array([[ 2.24231762e-04, -1.49232999e-02],\n",
       "       [-1.49232999e-02,  9.99779479e-01]])\n",
       "      jac: array([ 2.13623047e-04, -9.53674316e-06])\n",
       "  message: 'Optimization terminated successfully.'\n",
       "     nfev: 15\n",
       "      nit: 2\n",
       "     njev: 5\n",
       "   status: 0\n",
       "  success: True\n",
       "        x: array([0.0061822 , 0.17318067])"
      ]
     },
     "execution_count": 6,
     "metadata": {},
     "output_type": "execute_result"
    }
   ],
   "source": [
    "from scipy.optimize import minimize\n",
    "\n",
    "def gradient_descent(function, args, x0, epsilon):\n",
    "    return minimize(\n",
    "        function,\n",
    "        x0=x0,\n",
    "        method='BFGS',\n",
    "        args=(args,),\n",
    "        tol=epsilon\n",
    "    )\n",
    "\n",
    "gd_result=gradient_descent(least_squares, linear, (0, 0), 0.001)\n",
    "\n",
    "gd_a = gd_result.x[0]\n",
    "gd_b = gd_result.x[1]\n",
    "\n",
    "gd_result"
   ]
  },
  {
   "cell_type": "code",
   "execution_count": 7,
   "id": "143b6ac9",
   "metadata": {},
   "outputs": [],
   "source": [
    "def conjugate_gradient(fn: Callable, args, x0, epsilon: float = 0.001):\n",
    "    return minimize(\n",
    "        fn,\n",
    "        x0=x0,\n",
    "        method='CG',\n",
    "        args=(args,),\n",
    "        tol=epsilon\n",
    "    )"
   ]
  },
  {
   "cell_type": "code",
   "execution_count": 8,
   "id": "9a1ccc6a",
   "metadata": {},
   "outputs": [],
   "source": [
    "cg_result = conjugate_gradient(least_squares, linear, (0, 0))\n",
    "cg_a = cg_result.x[0]\n",
    "cg_b = cg_result.x[1]"
   ]
  },
  {
   "cell_type": "code",
   "execution_count": 9,
   "id": "b764a8fb",
   "metadata": {},
   "outputs": [],
   "source": [
    "from autograd import jacobian\n",
    "\n",
    "def newtons_method(fn: Callable, args, x0, epsilon: float = 0.001):\n",
    "    return minimize(\n",
    "        fn,\n",
    "        x0=x0,\n",
    "        method='Newton-CG',\n",
    "        args=(args,),\n",
    "        jac=jacobian(fn),\n",
    "        tol=epsilon\n",
    "    )"
   ]
  },
  {
   "cell_type": "code",
   "execution_count": 10,
   "id": "1eabd4f2",
   "metadata": {},
   "outputs": [],
   "source": [
    "nm_result = newtons_method(least_squares, linear, (0, 0))\n",
    "nm_a = nm_result.x[0]\n",
    "nm_b = nm_result.x[1]"
   ]
  },
  {
   "cell_type": "code",
   "execution_count": 11,
   "id": "13ad2721",
   "metadata": {},
   "outputs": [],
   "source": [
    "from scipy.optimize import curve_fit\n",
    "\n",
    "def levenberg_marquardt(fn: Callable, x: list[float], y: list[float]):\n",
    "    return curve_fit(\n",
    "        fn,\n",
    "        xdata=x,\n",
    "        ydata=y,\n",
    "        method='lm'\n",
    "    )"
   ]
  },
  {
   "cell_type": "code",
   "execution_count": 12,
   "id": "95287a18",
   "metadata": {},
   "outputs": [],
   "source": [
    "lm_result = levenberg_marquardt(linear, x, y)\n",
    "\n",
    "lm_a = lm_result[0][0]\n",
    "lm_b = lm_result[0][1]"
   ]
  },
  {
   "cell_type": "code",
   "execution_count": 13,
   "id": "4e2feaf2",
   "metadata": {},
   "outputs": [
    {
     "data": {
      "text/plain": [
       "<matplotlib.legend.Legend at 0xffff78a32b50>"
      ]
     },
     "execution_count": 13,
     "metadata": {},
     "output_type": "execute_result"
    },
    {
     "data": {
      "image/png": "[encoded data removed]",
      "text/plain": [
       "<Figure size 600x400 with 1 Axes>"
      ]
     },
     "metadata": {
      "needs_background": "light"
     },
     "output_type": "display_data"
    }
   ],
   "source": [
    "fig = plt.figure(dpi=100)\n",
    "ax = fig.add_subplot(1, 1, 1)\n",
    "    \n",
    "ax.scatter(range(n), y, zorder=1)\n",
    "ax.plot(range(n), [linear(x / n, alpha, beta) for x in range(n)], color='red', label=\"Truth\")\n",
    "ax.plot(range(n), [linear(x / n, gd_a, gd_b) for x in range(n)], color='pink', label='Gradient Descent')\n",
    "ax.plot(range(n), [linear(x / n, cg_a, cg_b) for x in range(n)], color='green', label='Conjugate Gradient')\n",
    "ax.plot(range(n), [linear(x / n, nm_a, nm_b) for x in range(n)], color='yellow', linestyle='dashed', label='Newton\\'s method')\n",
    "ax.plot(range(n), [linear(x / n, lm_a, lm_b) for x in range(n)], color='purple', linestyle='dotted', label='Levenberg Marquardt')\n",
    "ax.legend(loc='upper left')"
   ]
  },
  {
   "cell_type": "code",
   "execution_count": 14,
   "id": "159a5542",
   "metadata": {},
   "outputs": [
    {
     "data": {
      "text/html": [
       "<div>\n",
       "<style scoped>\n",
       "    .dataframe tbody tr th:only-of-type {\n",
       "        vertical-align: middle;\n",
       "    }\n",
       "\n",
       "    .dataframe tbody tr th {\n",
       "        vertical-align: top;\n",
       "    }\n",
       "\n",
       "    .dataframe thead th {\n",
       "        text-align: right;\n",
       "    }\n",
       "</style>\n",
       "<table border=\"1\" class=\"dataframe\">\n",
       "  <thead>\n",
       "    <tr style=\"text-align: right;\">\n",
       "      <th></th>\n",
       "      <th>Method</th>\n",
       "      <th>$a_{min}$</th>\n",
       "      <th>$b_{min}$</th>\n",
       "      <th>Iterations</th>\n",
       "      <th>F-Calculations</th>\n",
       "    </tr>\n",
       "  </thead>\n",
       "  <tbody>\n",
       "    <tr>\n",
       "      <th>0</th>\n",
       "      <td>Gradient Descent</td>\n",
       "      <td>0.006182</td>\n",
       "      <td>0.173181</td>\n",
       "      <td>2</td>\n",
       "      <td>15</td>\n",
       "    </tr>\n",
       "    <tr>\n",
       "      <th>1</th>\n",
       "      <td>Conjugate Gradient</td>\n",
       "      <td>0.006182</td>\n",
       "      <td>0.173181</td>\n",
       "      <td>2</td>\n",
       "      <td>15</td>\n",
       "    </tr>\n",
       "    <tr>\n",
       "      <th>2</th>\n",
       "      <td>Newton's method</td>\n",
       "      <td>0.006182</td>\n",
       "      <td>0.173179</td>\n",
       "      <td>2</td>\n",
       "      <td>24</td>\n",
       "    </tr>\n",
       "    <tr>\n",
       "      <th>3</th>\n",
       "      <td>Levenberg-Marquardt</td>\n",
       "      <td>0.006182</td>\n",
       "      <td>0.173179</td>\n",
       "      <td>n/a</td>\n",
       "      <td>n/a</td>\n",
       "    </tr>\n",
       "  </tbody>\n",
       "</table>\n",
       "</div>"
      ],
      "text/plain": [
       "                Method  $a_{min}$  $b_{min}$ Iterations F-Calculations\n",
       "0     Gradient Descent   0.006182   0.173181          2             15\n",
       "1   Conjugate Gradient   0.006182   0.173181          2             15\n",
       "2      Newton's method   0.006182   0.173179          2             24\n",
       "3  Levenberg-Marquardt   0.006182   0.173179        n/a            n/a"
      ]
     },
     "execution_count": 14,
     "metadata": {},
     "output_type": "execute_result"
    }
   ],
   "source": [
    "pd.DataFrame(\n",
    "    [\n",
    "        ['Gradient Descent', gd_a, gd_b, gd_result.nit, gd_result.nfev],\n",
    "        ['Conjugate Gradient', cg_a, cg_b, cg_result.nit, cg_result.nfev],\n",
    "        ['Newton\\'s method', nm_a, nm_b, nm_result.nit, nm_result.nfev],\n",
    "        ['Levenberg-Marquardt', lm_a, lm_b, 'n/a', 'n/a']\n",
    "    ],\n",
    "    columns=['Method', '$a_{min}$', '$b_{min}$', 'Iterations', 'F-Calculations']\n",
    ")"
   ]
  },
  {
   "cell_type": "code",
   "execution_count": 15,
   "id": "de092587",
   "metadata": {},
   "outputs": [
    {
     "data": {
      "text/plain": [
       "      fun: 123.35306492346665\n",
       " hess_inv: array([[4.36475005e-03, 6.04534041e-05],\n",
       "       [6.04534041e-05, 1.24819127e-06]])\n",
       "      jac: array([-9.53674316e-07,  3.13758850e-04])\n",
       "  message: 'Optimization terminated successfully.'\n",
       "     nfev: 54\n",
       "      nit: 12\n",
       "     njev: 18\n",
       "   status: 0\n",
       "  success: True\n",
       "        x: array([ 0.27790985, -0.00713208])"
      ]
     },
     "execution_count": 15,
     "metadata": {},
     "output_type": "execute_result"
    }
   ],
   "source": [
    "def least_squares_rational_gradient(a, b) -> (float, float):\n",
    "    temp_a = []\n",
    "    temp_b = []\n",
    "    for k in range(n):\n",
    "        x = (k / n)\n",
    "        y_i = (y[k])\n",
    "\n",
    "        a_denominator = (1 + b * x) ** 2\n",
    "        temp_a.append(\n",
    "            - ((2 * x * b * y_i) / a_denominator)\n",
    "            + (2 * a / a_denominator)\n",
    "            - (2 * y_i / a_denominator)\n",
    "        )\n",
    "\n",
    "        temp_b.append(\n",
    "            -(2 * a * x * (a - y_i - x * b * y_i))\n",
    "            / ((b * x + 1) ** 3)\n",
    "        )\n",
    "    df_da = sum(temp_a)\n",
    "    df_db = sum(temp_b)\n",
    "    \n",
    "    return df_da, df_db\n",
    "\n",
    "least_squares_rational = lambda a, b: sum([(rational(k / n, a, b) - x[k]) ** 2 for k in range(n)])\n",
    "\n",
    "gd_result = gradient_descent(least_squares, rational, (0, 0), 0.001)\n",
    "gd_a = gd_result.x[0]\n",
    "gd_b = gd_result.x[1]\n",
    "\n",
    "gd_result"
   ]
  },
  {
   "cell_type": "code",
   "execution_count": 16,
   "id": "03ab92af",
   "metadata": {},
   "outputs": [],
   "source": [
    "cg_result = conjugate_gradient(least_squares, rational, (0, 0))\n",
    "cg_a = cg_result.x[0]\n",
    "cg_b = cg_result.x[1]"
   ]
  },
  {
   "cell_type": "code",
   "execution_count": 17,
   "id": "087d46d0",
   "metadata": {},
   "outputs": [],
   "source": [
    "nm_result = newtons_method(least_squares, rational, (0, 0))\n",
    "nm_a = nm_result.x[0]\n",
    "nm_b = nm_result.x[1]"
   ]
  },
  {
   "cell_type": "code",
   "execution_count": 18,
   "id": "249b8552",
   "metadata": {},
   "outputs": [],
   "source": [
    "lm_result = levenberg_marquardt(rational, x, y)\n",
    "\n",
    "lm_a = lm_result[0][0]\n",
    "lm_b = lm_result[0][1]"
   ]
  },
  {
   "cell_type": "code",
   "execution_count": 19,
   "id": "1c361fe8",
   "metadata": {},
   "outputs": [
    {
     "data": {
      "text/plain": [
       "<matplotlib.legend.Legend at 0xffff78abf850>"
      ]
     },
     "execution_count": 19,
     "metadata": {},
     "output_type": "execute_result"
    },
    {
     "data": {
      "image/png": "[encoded data removed]",
      "text/plain": [
       "<Figure size 600x400 with 1 Axes>"
      ]
     },
     "metadata": {
      "needs_background": "light"
     },
     "output_type": "display_data"
    }
   ],
   "source": [
    "fig = plt.figure(dpi=100)\n",
    "ax = fig.add_subplot(1, 1, 1)\n",
    "    \n",
    "ax.scatter(range(n), y, zorder=1)\n",
    "ax.plot(range(n), [linear(x / n, alpha, beta) for x in range(n)], color='red', label=\"Truth\")\n",
    "ax.plot(range(n), [rational(x / n, gd_a, gd_b) for x in range(n)], color='pink', label='Gradient Descent')\n",
    "ax.plot(range(n), [rational(x / n, cg_a, cg_b) for x in range(n)], color='green', label='Conjugate Gradient')\n",
    "ax.plot(range(n), [rational(x / n, nm_a, nm_b) for x in range(n)], color='yellow', linestyle='dashed', label='Newton\\'s method')\n",
    "ax.plot(range(n), [rational(x / n, lm_a, lm_b) for x in range(n)], color='purple', linestyle='dotted', label='Levenberg Marquardt')\n",
    "ax.legend(loc='upper left')"
   ]
  },
  {
   "cell_type": "code",
   "execution_count": 20,
   "id": "58702990",
   "metadata": {},
   "outputs": [
    {
     "data": {
      "text/html": [
       "<div>\n",
       "<style scoped>\n",
       "    .dataframe tbody tr th:only-of-type {\n",
       "        vertical-align: middle;\n",
       "    }\n",
       "\n",
       "    .dataframe tbody tr th {\n",
       "        vertical-align: top;\n",
       "    }\n",
       "\n",
       "    .dataframe thead th {\n",
       "        text-align: right;\n",
       "    }\n",
       "</style>\n",
       "<table border=\"1\" class=\"dataframe\">\n",
       "  <thead>\n",
       "    <tr style=\"text-align: right;\">\n",
       "      <th></th>\n",
       "      <th>Method</th>\n",
       "      <th>$a_{min}$</th>\n",
       "      <th>$b_{min}$</th>\n",
       "      <th>Iterations</th>\n",
       "      <th>F-Calculations</th>\n",
       "    </tr>\n",
       "  </thead>\n",
       "  <tbody>\n",
       "    <tr>\n",
       "      <th>0</th>\n",
       "      <td>Gradient Descent</td>\n",
       "      <td>0.277910</td>\n",
       "      <td>-0.007132</td>\n",
       "      <td>12</td>\n",
       "      <td>54</td>\n",
       "    </tr>\n",
       "    <tr>\n",
       "      <th>1</th>\n",
       "      <td>Conjugate Gradient</td>\n",
       "      <td>0.277895</td>\n",
       "      <td>-0.007132</td>\n",
       "      <td>14</td>\n",
       "      <td>214</td>\n",
       "    </tr>\n",
       "    <tr>\n",
       "      <th>2</th>\n",
       "      <td>Newton's method</td>\n",
       "      <td>0.482233</td>\n",
       "      <td>-0.003426</td>\n",
       "      <td>3</td>\n",
       "      <td>8</td>\n",
       "    </tr>\n",
       "    <tr>\n",
       "      <th>3</th>\n",
       "      <td>Levenberg-Marquardt</td>\n",
       "      <td>0.277893</td>\n",
       "      <td>-0.007132</td>\n",
       "      <td>n/a</td>\n",
       "      <td>n/a</td>\n",
       "    </tr>\n",
       "  </tbody>\n",
       "</table>\n",
       "</div>"
      ],
      "text/plain": [
       "                Method  $a_{min}$  $b_{min}$ Iterations F-Calculations\n",
       "0     Gradient Descent   0.277910  -0.007132         12             54\n",
       "1   Conjugate Gradient   0.277895  -0.007132         14            214\n",
       "2      Newton's method   0.482233  -0.003426          3              8\n",
       "3  Levenberg-Marquardt   0.277893  -0.007132        n/a            n/a"
      ]
     },
     "execution_count": 20,
     "metadata": {},
     "output_type": "execute_result"
    }
   ],
   "source": [
    "pd.DataFrame(\n",
    "    [\n",
    "        ['Gradient Descent', gd_a, gd_b, gd_result.nit, gd_result.nfev],\n",
    "        ['Conjugate Gradient', cg_a, cg_b, cg_result.nit, cg_result.nfev],\n",
    "        ['Newton\\'s method', nm_a, nm_b, nm_result.nit, nm_result.nfev],\n",
    "        ['Levenberg-Marquardt', lm_a, lm_b, 'n/a', 'n/a']\n",
    "    ],\n",
    "    columns=['Method', '$a_{min}$', '$b_{min}$', 'Iterations', 'F-Calculations']\n",
    ")"
   ]
  }
 ],
 "metadata": {
  "kernelspec": {
   "display_name": "Python 3 (ipykernel)",
   "language": "python",
   "name": "python3"
  },
  "language_info": {
   "codemirror_mode": {
    "name": "ipython",
    "version": 3
   },
   "file_extension": ".py",
   "mimetype": "text/x-python",
   "name": "python",
   "nbconvert_exporter": "python",
   "pygments_lexer": "ipython3",
   "version": "3.9.12"
  }
 },
 "nbformat": 4,
 "nbformat_minor": 5
}
