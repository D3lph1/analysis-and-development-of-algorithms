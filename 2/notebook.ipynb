{
 "cells": [
  {
   "cell_type": "markdown",
   "id": "10a66403",
   "metadata": {},
   "source": [
    "# Task 2. Algorithms for unconstrained nonlinear optimization. Direct methods"
   ]
  },
  {
   "cell_type": "code",
   "execution_count": 496,
   "id": "056709fd",
   "metadata": {},
   "outputs": [],
   "source": [
    "from time import process_time\n",
    "import numpy as np\n",
    "import matplotlib.pyplot as plt\n",
    "from collections.abc import Callable\n",
    "from typing import Any\n",
    "from functools import partial\n",
    "import scipy.optimize as opt\n",
    "from math import sqrt, fabs, sin\n",
    "import pandas as pd\n",
    "import random"
   ]
  },
  {
   "cell_type": "code",
   "execution_count": 497,
   "id": "6ca9e1ff",
   "metadata": {},
   "outputs": [],
   "source": [
    "def plot(fn, x: tuple[float, float], argmin):\n",
    "    fig = plt.figure(dpi=100)\n",
    "    ax = fig.add_subplot(1, 1, 1)\n",
    "    \n",
    "    x = np.linspace(x[0], x[1], 1000)\n",
    "    y = fn(x)\n",
    "    \n",
    "    ax.plot(x, y, zorder=1)\n",
    "    ax.set_xlabel('x')\n",
    "    ax.set_ylabel('f(x)')\n",
    "    \n",
    "    ax.scatter(argmin, fn(argmin), color='red', zorder=2)"
   ]
  },
  {
   "cell_type": "code",
   "execution_count": 630,
   "id": "0bdead8d",
   "metadata": {},
   "outputs": [],
   "source": [
    "def exhaustive_search(fn: Callable, x: tuple[float, float], epsilon: float):\n",
    "    minimum = fn(x[0])\n",
    "    argmin = x[0]\n",
    "    iters = 0\n",
    "    f_calculations = 1\n",
    "    \n",
    "    # x[1] + epsilon to include end point of the x interval\n",
    "    for x_i in np.arange(x[0], x[1] + epsilon, epsilon):\n",
    "        val = fn(x_i)\n",
    "        if val < minimum:\n",
    "            minimum = val\n",
    "            argmin = x_i\n",
    "        \n",
    "        iters += 1\n",
    "        f_calculations += 1\n",
    "    \n",
    "    return argmin, iters, f_calculations\n",
    "\n",
    "def dichotomy_search(fn: Callable, x: tuple[float, float], epsilon: float):\n",
    "    delta = epsilon / 2\n",
    "    lower = x[0]\n",
    "    higher = x[1]\n",
    "    iters = 0\n",
    "    f_calculations = 0\n",
    "    \n",
    "    while higher - lower >= epsilon:\n",
    "        x_lower = (lower + higher - delta) / 2\n",
    "        x_higher = (lower + higher + delta) / 2\n",
    "        \n",
    "        if fn(x_lower) <= fn(x_higher):\n",
    "            higher = x_higher\n",
    "        else:\n",
    "            lower = x_lower\n",
    "        \n",
    "        iters += 1\n",
    "        f_calculations += 2\n",
    "    \n",
    "    argmin = np.around((lower + higher) / 2, decimals=3)\n",
    "    \n",
    "    return argmin, iters, f_calculations\n",
    "\n",
    "def golden_section_search(fn: Callable, x: tuple[float, float], epsilon: float):    \n",
    "    l, r = x\n",
    "    \n",
    "    phi = (1 + sqrt(5)) / 2\n",
    "    resphi = 2 - phi\n",
    "    x1 = l + resphi * (r - l)\n",
    "    x2 = r - resphi * (r - l)\n",
    "    f1 = fn(x1)\n",
    "    f2 = fn(x2)\n",
    "    \n",
    "    iters = 0\n",
    "    f_calculations = 2\n",
    "    \n",
    "    while True:\n",
    "        if f1 < f2:\n",
    "            r = x2\n",
    "            x2 = x1\n",
    "            f2 = f1\n",
    "            x1 = l + resphi * (r - l)\n",
    "            f1 = fn(x1)\n",
    "        else:\n",
    "            l = x1\n",
    "            x1 = x2\n",
    "            f1 = f2\n",
    "            x2 = r - resphi * (r - l)\n",
    "            f2 = fn(x2)\n",
    "        \n",
    "        iters += 1\n",
    "        f_calculations += 1\n",
    "        \n",
    "        if abs(r - l) < epsilon:\n",
    "            break\n",
    "            \n",
    "    return (x1 + x2) / 2, iters, f_calculations"
   ]
  },
  {
   "cell_type": "markdown",
   "id": "68ab45d1",
   "metadata": {},
   "source": [
    "**I.** Use the one-dimensional methods of exhaustive search, dichotomy and golden section search to find an approximate (with precision $\\epsilon = 0.001$) solution $x: f(x) → \\min$ for the following functions and domains:"
   ]
  },
  {
   "cell_type": "markdown",
   "id": "ba7733ed",
   "metadata": {},
   "source": [
    "1) $f(x) = x^3, x \\in [0; 1]$"
   ]
  },
  {
   "cell_type": "code",
   "execution_count": 499,
   "id": "f8da9bef",
   "metadata": {},
   "outputs": [],
   "source": [
    "def cubic(x: float) -> float:\n",
    "    return x ** 3"
   ]
  },
  {
   "cell_type": "code",
   "execution_count": 634,
   "id": "13ac8399",
   "metadata": {},
   "outputs": [
    {
     "data": {
      "text/plain": [
       "(0, 10001, 10002)"
      ]
     },
     "execution_count": 634,
     "metadata": {},
     "output_type": "execute_result"
    }
   ],
   "source": [
    "exhaustive_min, exhaustive_iters, exhaustive_f_calculations = exhaustive_search(cubic, (0, 1), 0.0001)\n",
    "\n",
    "exhaustive_min, exhaustive_iters, exhaustive_f_calculations"
   ]
  },
  {
   "cell_type": "code",
   "execution_count": 635,
   "id": "3312ee26",
   "metadata": {},
   "outputs": [
    {
     "data": {
      "text/plain": [
       "(0.0, 15, 30)"
      ]
     },
     "execution_count": 635,
     "metadata": {},
     "output_type": "execute_result"
    }
   ],
   "source": [
    "dichotomy_min, dichotomy_iters, dichotomy_f_calculations = dichotomy_search(cubic, (0, 1), 0.0001)\n",
    "\n",
    "dichotomy_min, dichotomy_iters, dichotomy_f_calculations"
   ]
  },
  {
   "cell_type": "code",
   "execution_count": 636,
   "id": "07f88cae",
   "metadata": {},
   "outputs": [
    {
     "data": {
      "text/plain": [
       "(3.3053480675947935e-05, 20, 22)"
      ]
     },
     "execution_count": 636,
     "metadata": {},
     "output_type": "execute_result"
    }
   ],
   "source": [
    "golden_min, golden_iters, golden_f_calculations = golden_section_search(cubic, (0, 1), 0.0001)\n",
    "\n",
    "golden_min, golden_iters, golden_f_calculations"
   ]
  },
  {
   "cell_type": "code",
   "execution_count": 637,
   "id": "7d08d1e2",
   "metadata": {},
   "outputs": [
    {
     "data": {
      "image/png": "[encoded data removed]",
      "text/plain": [
       "<Figure size 600x400 with 1 Axes>"
      ]
     },
     "metadata": {
      "needs_background": "light"
     },
     "output_type": "display_data"
    }
   ],
   "source": [
    "plot(cubic, (0, 1), exhaustive_min)"
   ]
  },
  {
   "cell_type": "code",
   "execution_count": 638,
   "id": "709922b6",
   "metadata": {},
   "outputs": [
    {
     "data": {
      "text/html": [
       "<div>\n",
       "<style scoped>\n",
       "    .dataframe tbody tr th:only-of-type {\n",
       "        vertical-align: middle;\n",
       "    }\n",
       "\n",
       "    .dataframe tbody tr th {\n",
       "        vertical-align: top;\n",
       "    }\n",
       "\n",
       "    .dataframe thead th {\n",
       "        text-align: right;\n",
       "    }\n",
       "</style>\n",
       "<table border=\"1\" class=\"dataframe\">\n",
       "  <thead>\n",
       "    <tr style=\"text-align: right;\">\n",
       "      <th></th>\n",
       "      <th>Method</th>\n",
       "      <th>$x_{min}$</th>\n",
       "      <th>$f(x_{min})$</th>\n",
       "      <th>Iterations</th>\n",
       "      <th>F-calculations</th>\n",
       "    </tr>\n",
       "  </thead>\n",
       "  <tbody>\n",
       "    <tr>\n",
       "      <th>0</th>\n",
       "      <td>Exhaustive search</td>\n",
       "      <td>0.000000</td>\n",
       "      <td>0.000000e+00</td>\n",
       "      <td>10001</td>\n",
       "      <td>10002</td>\n",
       "    </tr>\n",
       "    <tr>\n",
       "      <th>1</th>\n",
       "      <td>Dichotomy search</td>\n",
       "      <td>0.000000</td>\n",
       "      <td>0.000000e+00</td>\n",
       "      <td>15</td>\n",
       "      <td>30</td>\n",
       "    </tr>\n",
       "    <tr>\n",
       "      <th>2</th>\n",
       "      <td>Golden section search</td>\n",
       "      <td>0.000033</td>\n",
       "      <td>3.611200e-14</td>\n",
       "      <td>20</td>\n",
       "      <td>22</td>\n",
       "    </tr>\n",
       "  </tbody>\n",
       "</table>\n",
       "</div>"
      ],
      "text/plain": [
       "                  Method  $x_{min}$  $f(x_{min})$  Iterations  F-calculations\n",
       "0      Exhaustive search   0.000000  0.000000e+00       10001           10002\n",
       "1       Dichotomy search   0.000000  0.000000e+00          15              30\n",
       "2  Golden section search   0.000033  3.611200e-14          20              22"
      ]
     },
     "execution_count": 638,
     "metadata": {},
     "output_type": "execute_result"
    }
   ],
   "source": [
    "pd.DataFrame(\n",
    "    [\n",
    "        ['Exhaustive search', exhaustive_min, cubic(exhaustive_min), exhaustive_iters, exhaustive_f_calculations],\n",
    "        ['Dichotomy search', dichotomy_min, cubic(dichotomy_min), dichotomy_iters, dichotomy_f_calculations],\n",
    "        ['Golden section search', golden_min, cubic(golden_min), golden_iters, golden_f_calculations]\n",
    "    ],\n",
    "    columns=['Method', '$x_{min}$', '$f(x_{min})$', 'Iterations', 'F-calculations']\n",
    ")"
   ]
  },
  {
   "cell_type": "markdown",
   "id": "234b51e5",
   "metadata": {},
   "source": [
    "2) $f(x) = |x - 0.2|, x \\in [0, 1]$"
   ]
  },
  {
   "cell_type": "code",
   "execution_count": 639,
   "id": "fe537064",
   "metadata": {},
   "outputs": [],
   "source": [
    "def absolute(x: float) -> float:\n",
    "    return abs(x - 0.2)"
   ]
  },
  {
   "cell_type": "code",
   "execution_count": 640,
   "id": "6e34886b",
   "metadata": {},
   "outputs": [
    {
     "data": {
      "text/plain": [
       "(0.2, 10001, 10002)"
      ]
     },
     "execution_count": 640,
     "metadata": {},
     "output_type": "execute_result"
    }
   ],
   "source": [
    "exhaustive_min, exhaustive_iters, exhaustive_f_calculations = exhaustive_search(absolute, (0, 1), 0.0001)\n",
    "\n",
    "exhaustive_min, exhaustive_iters, exhaustive_f_calculations"
   ]
  },
  {
   "cell_type": "code",
   "execution_count": 645,
   "id": "207f3819",
   "metadata": {},
   "outputs": [
    {
     "data": {
      "text/plain": [
       "(0.2, 15, 30)"
      ]
     },
     "execution_count": 645,
     "metadata": {},
     "output_type": "execute_result"
    }
   ],
   "source": [
    "dichotomy_min, dichotomy_iters, dichotomy_f_calculations = dichotomy_search(absolute, (0, 1), 0.0001)\n",
    "\n",
    "dichotomy_min, dichotomy_iters, dichotomy_f_calculations"
   ]
  },
  {
   "cell_type": "code",
   "execution_count": 642,
   "id": "70bdb713",
   "metadata": {},
   "outputs": [
    {
     "data": {
      "text/plain": [
       "(0.2000198320884055, 20, 22)"
      ]
     },
     "execution_count": 642,
     "metadata": {},
     "output_type": "execute_result"
    }
   ],
   "source": [
    "golden_min, golden_iters, golden_f_calculations = golden_section_search(absolute, (0, 1), 0.0001)\n",
    "\n",
    "golden_min, golden_iters, golden_f_calculations"
   ]
  },
  {
   "cell_type": "code",
   "execution_count": 643,
   "id": "7aa4191f",
   "metadata": {},
   "outputs": [
    {
     "data": {
      "image/png": "[encoded data removed]",
      "text/plain": [
       "<Figure size 600x400 with 1 Axes>"
      ]
     },
     "metadata": {
      "needs_background": "light"
     },
     "output_type": "display_data"
    }
   ],
   "source": [
    "plot(absolute, (0, 1), exhaustive_min)"
   ]
  },
  {
   "cell_type": "code",
   "execution_count": 644,
   "id": "0a333a47",
   "metadata": {},
   "outputs": [
    {
     "data": {
      "text/html": [
       "<div>\n",
       "<style scoped>\n",
       "    .dataframe tbody tr th:only-of-type {\n",
       "        vertical-align: middle;\n",
       "    }\n",
       "\n",
       "    .dataframe tbody tr th {\n",
       "        vertical-align: top;\n",
       "    }\n",
       "\n",
       "    .dataframe thead th {\n",
       "        text-align: right;\n",
       "    }\n",
       "</style>\n",
       "<table border=\"1\" class=\"dataframe\">\n",
       "  <thead>\n",
       "    <tr style=\"text-align: right;\">\n",
       "      <th></th>\n",
       "      <th>Method</th>\n",
       "      <th>$x_{min}$</th>\n",
       "      <th>$f(x_{min})$</th>\n",
       "      <th>Iterations</th>\n",
       "      <th>F-calculations</th>\n",
       "    </tr>\n",
       "  </thead>\n",
       "  <tbody>\n",
       "    <tr>\n",
       "      <th>0</th>\n",
       "      <td>Exhaustive search</td>\n",
       "      <td>0.20000</td>\n",
       "      <td>0.008000</td>\n",
       "      <td>10001</td>\n",
       "      <td>10002</td>\n",
       "    </tr>\n",
       "    <tr>\n",
       "      <th>1</th>\n",
       "      <td>Dichotomy search</td>\n",
       "      <td>0.20000</td>\n",
       "      <td>0.008000</td>\n",
       "      <td>15</td>\n",
       "      <td>30</td>\n",
       "    </tr>\n",
       "    <tr>\n",
       "      <th>2</th>\n",
       "      <td>Golden section search</td>\n",
       "      <td>0.20002</td>\n",
       "      <td>0.008002</td>\n",
       "      <td>20</td>\n",
       "      <td>22</td>\n",
       "    </tr>\n",
       "  </tbody>\n",
       "</table>\n",
       "</div>"
      ],
      "text/plain": [
       "                  Method  $x_{min}$  $f(x_{min})$  Iterations  F-calculations\n",
       "0      Exhaustive search    0.20000      0.008000       10001           10002\n",
       "1       Dichotomy search    0.20000      0.008000          15              30\n",
       "2  Golden section search    0.20002      0.008002          20              22"
      ]
     },
     "execution_count": 644,
     "metadata": {},
     "output_type": "execute_result"
    }
   ],
   "source": [
    "pd.DataFrame(\n",
    "    [\n",
    "        ['Exhaustive search', exhaustive_min, cubic(exhaustive_min), exhaustive_iters, exhaustive_f_calculations],\n",
    "        ['Dichotomy search', dichotomy_min, cubic(dichotomy_min), dichotomy_iters, dichotomy_f_calculations],\n",
    "        ['Golden section search', golden_min, cubic(golden_min), golden_iters, golden_f_calculations]\n",
    "    ],\n",
    "    columns=['Method', '$x_{min}$', '$f(x_{min})$', 'Iterations', 'F-calculations']\n",
    ")"
   ]
  },
  {
   "cell_type": "markdown",
   "id": "43803f7c",
   "metadata": {},
   "source": [
    "3) $f(x) = x\\sin{\\frac{1}{x}}, x \\in [0.01, 1]$"
   ]
  },
  {
   "cell_type": "code",
   "execution_count": 511,
   "id": "36e51cc9",
   "metadata": {},
   "outputs": [],
   "source": [
    "def sine(x):\n",
    "    return x * np.sin(1 / x)"
   ]
  },
  {
   "cell_type": "code",
   "execution_count": 647,
   "id": "06534b15",
   "metadata": {},
   "outputs": [
    {
     "data": {
      "text/plain": [
       "(0.22249999999999873, 9901, 9902)"
      ]
     },
     "execution_count": 647,
     "metadata": {},
     "output_type": "execute_result"
    }
   ],
   "source": [
    "exhaustive_min, exhaustive_iters, exhaustive_f_calculations = exhaustive_search(sine, (0.01, 1), 0.0001)\n",
    "\n",
    "exhaustive_min, exhaustive_iters, exhaustive_f_calculations"
   ]
  },
  {
   "cell_type": "code",
   "execution_count": 648,
   "id": "e9a3f2d8",
   "metadata": {},
   "outputs": [
    {
     "data": {
      "text/plain": [
       "(0.223, 15, 30)"
      ]
     },
     "execution_count": 648,
     "metadata": {},
     "output_type": "execute_result"
    }
   ],
   "source": [
    "dichotomy_min, dichotomy_iters, dichotomy_f_calculations = dichotomy_search(sine, (0.01, 1), 0.0001)\n",
    "\n",
    "dichotomy_min, dichotomy_iters, dichotomy_f_calculations"
   ]
  },
  {
   "cell_type": "code",
   "execution_count": 649,
   "id": "8f91bd61",
   "metadata": {},
   "outputs": [
    {
     "data": {
      "text/plain": [
       "(0.22253575499749811, 20, 22)"
      ]
     },
     "execution_count": 649,
     "metadata": {},
     "output_type": "execute_result"
    }
   ],
   "source": [
    "golden_min, golden_iters, golden_f_calculations = golden_section_search(sine, (0.01, 1), 0.0001)\n",
    "\n",
    "golden_min, golden_iters, golden_f_calculations"
   ]
  },
  {
   "cell_type": "code",
   "execution_count": 650,
   "id": "c99b6ce6",
   "metadata": {},
   "outputs": [
    {
     "data": {
      "image/png": "[encoded data removed]",
      "text/plain": [
       "<Figure size 600x400 with 1 Axes>"
      ]
     },
     "metadata": {
      "needs_background": "light"
     },
     "output_type": "display_data"
    }
   ],
   "source": [
    "plot(sine, (0.01, 1), exhaustive_min)"
   ]
  },
  {
   "cell_type": "code",
   "execution_count": 651,
   "id": "e685f998",
   "metadata": {},
   "outputs": [
    {
     "data": {
      "text/html": [
       "<div>\n",
       "<style scoped>\n",
       "    .dataframe tbody tr th:only-of-type {\n",
       "        vertical-align: middle;\n",
       "    }\n",
       "\n",
       "    .dataframe tbody tr th {\n",
       "        vertical-align: top;\n",
       "    }\n",
       "\n",
       "    .dataframe thead th {\n",
       "        text-align: right;\n",
       "    }\n",
       "</style>\n",
       "<table border=\"1\" class=\"dataframe\">\n",
       "  <thead>\n",
       "    <tr style=\"text-align: right;\">\n",
       "      <th></th>\n",
       "      <th>Method</th>\n",
       "      <th>$x_{min}$</th>\n",
       "      <th>$f(x_{min})$</th>\n",
       "      <th>Iterations</th>\n",
       "      <th>F-calculations</th>\n",
       "    </tr>\n",
       "  </thead>\n",
       "  <tbody>\n",
       "    <tr>\n",
       "      <th>0</th>\n",
       "      <td>Exhaustive search</td>\n",
       "      <td>0.222500</td>\n",
       "      <td>0.011015</td>\n",
       "      <td>9901</td>\n",
       "      <td>9902</td>\n",
       "    </tr>\n",
       "    <tr>\n",
       "      <th>1</th>\n",
       "      <td>Dichotomy search</td>\n",
       "      <td>0.223000</td>\n",
       "      <td>0.011090</td>\n",
       "      <td>15</td>\n",
       "      <td>30</td>\n",
       "    </tr>\n",
       "    <tr>\n",
       "      <th>2</th>\n",
       "      <td>Golden section search</td>\n",
       "      <td>0.222536</td>\n",
       "      <td>0.011020</td>\n",
       "      <td>20</td>\n",
       "      <td>22</td>\n",
       "    </tr>\n",
       "  </tbody>\n",
       "</table>\n",
       "</div>"
      ],
      "text/plain": [
       "                  Method  $x_{min}$  $f(x_{min})$  Iterations  F-calculations\n",
       "0      Exhaustive search   0.222500      0.011015        9901            9902\n",
       "1       Dichotomy search   0.223000      0.011090          15              30\n",
       "2  Golden section search   0.222536      0.011020          20              22"
      ]
     },
     "execution_count": 651,
     "metadata": {},
     "output_type": "execute_result"
    }
   ],
   "source": [
    "pd.DataFrame(\n",
    "    [\n",
    "        ['Exhaustive search', exhaustive_min, cubic(exhaustive_min), exhaustive_iters, exhaustive_f_calculations],\n",
    "        ['Dichotomy search', dichotomy_min, cubic(dichotomy_min), dichotomy_iters, dichotomy_f_calculations],\n",
    "        ['Golden section search', golden_min, cubic(golden_min), golden_iters, golden_f_calculations]\n",
    "    ],\n",
    "    columns=['Method', '$x_{min}$', '$f(x_{min})$', 'Iterations', 'F-calculations']\n",
    ")"
   ]
  },
  {
   "cell_type": "markdown",
   "id": "e751cb0a",
   "metadata": {},
   "source": [
    "**II.** Generate random numbers $\\alpha \\in (0, 1)$ and $\\beta \\in (0, 1)$"
   ]
  },
  {
   "cell_type": "code",
   "execution_count": 517,
   "id": "4c28d333",
   "metadata": {},
   "outputs": [
    {
     "data": {
      "text/plain": [
       "(0.8426585759717724, 0.020279213814659358)"
      ]
     },
     "execution_count": 517,
     "metadata": {},
     "output_type": "execute_result"
    }
   ],
   "source": [
    "alpha = random.uniform(0, 1)\n",
    "beta = random.uniform(0, 1)\n",
    "\n",
    "alpha, beta"
   ]
  },
  {
   "cell_type": "markdown",
   "id": "16de398a",
   "metadata": {},
   "source": [
    "Furthermore, generate the noisy data $\\{x_k, y_k\\}$, where $k = 0, … ,100$, according to the following rule:\n",
    "\n",
    "$y_k = \\alpha x_k + \\beta + \\delta_k, x_k = \\frac{k}{100}$\n",
    "\n",
    "where $\\delta_k \\sim N(0,1)$ are values of a random variable with standard normal\n",
    "distribution."
   ]
  },
  {
   "cell_type": "code",
   "execution_count": 518,
   "id": "9495a5d0",
   "metadata": {},
   "outputs": [],
   "source": [
    "k = 101\n",
    "y = [alpha * (x / k) + beta + np.random.normal(0, 1) for x in range(101)]\n",
    "\n",
    "def plot_scatter(x: list[float], y: list[float]) -> None:\n",
    "    fig = plt.figure(dpi=100)\n",
    "    ax = fig.add_subplot(1, 1, 1)\n",
    "    \n",
    "    ax.scatter(x, y, zorder=1)"
   ]
  },
  {
   "cell_type": "code",
   "execution_count": 519,
   "id": "22e96690",
   "metadata": {},
   "outputs": [
    {
     "data": {
      "image/png": "[encoded data removed]",
      "text/plain": [
       "<Figure size 600x400 with 1 Axes>"
      ]
     },
     "metadata": {
      "needs_background": "light"
     },
     "output_type": "display_data"
    }
   ],
   "source": [
    "plot_scatter(range(k), y)"
   ]
  },
  {
   "cell_type": "code",
   "execution_count": 616,
   "id": "7b50b1a8",
   "metadata": {},
   "outputs": [
    {
     "data": {
      "text/plain": [
       "2142"
      ]
     },
     "execution_count": 616,
     "metadata": {},
     "output_type": "execute_result"
    }
   ],
   "source": [
    "import json\n",
    "\n",
    "# Write points to file for the next task\n",
    "dumped = json.dumps({'alpha': alpha, 'beta': beta, 'y': y})\n",
    "file = open('./points.json', 'w')\n",
    "file.write(dumped)"
   ]
  },
  {
   "cell_type": "markdown",
   "id": "abf5c970",
   "metadata": {},
   "source": [
    "Approximate the data by the following linear and rational functions:\n",
    "1. $f(x, a, b) = ax + b$ (linear approximant)\n",
    "2. $f(x, a, b) = \\frac{a}{1 + bx}$ (rational approximant)"
   ]
  },
  {
   "cell_type": "code",
   "execution_count": 595,
   "id": "63342a50",
   "metadata": {},
   "outputs": [],
   "source": [
    "def linear(x: float, a: float, b: float) -> float:\n",
    "    return a * x + b\n",
    "\n",
    "def rational(x: float, a: float, b: float) -> float:\n",
    "    return a / (1 + b * x)"
   ]
  },
  {
   "cell_type": "markdown",
   "id": "fe2c1408",
   "metadata": {},
   "source": [
    "by means of least squares through the numerical minimization (with precision $\\epsilon = 0.001$) of the following function:\n",
    "\n",
    "$D(a, b) = \\sum_{k=0}^{100} (F(x_k, a, b) - y_k)^2$"
   ]
  },
  {
   "cell_type": "code",
   "execution_count": 596,
   "id": "7be8b3b4",
   "metadata": {},
   "outputs": [],
   "source": [
    "def least_squares(fn: Callable, truth: list[float], a: float, b: float, k: int):\n",
    "    return sum([(fn(x / k, a, b) - truth[x]) ** 2 for x in range(k)])"
   ]
  },
  {
   "cell_type": "markdown",
   "id": "75433254",
   "metadata": {},
   "source": [
    "To solve the minimization problem, use the methods of exhaustive search, Gauss and Nelder-Mead"
   ]
  },
  {
   "cell_type": "code",
   "execution_count": 672,
   "id": "9b73f970",
   "metadata": {},
   "outputs": [],
   "source": [
    "from scipy.optimize import minimize\n",
    "\n",
    "def exhaustive_search_grid(fn: Callable, a_range: tuple[float, float], b_range: tuple[float, float], epsilon: float):\n",
    "    minimum = fn(a_range[0], b_range[0])\n",
    "    a_min = a_range[0]\n",
    "    b_min = b_range[0]\n",
    "    iters = 0\n",
    "    f_calculations = 1\n",
    "    \n",
    "    # x[1] + epsilon to include end point of the x interval\n",
    "    for a_i in np.arange(a_range[0], a_range[1] + epsilon, epsilon):\n",
    "        for b_i in np.arange(b_range[0], b_range[1] + epsilon, epsilon):    \n",
    "            val = fn(a=a_i, b=b_i)\n",
    "            if val < minimum:\n",
    "                minimum = val\n",
    "                a_min = a_i\n",
    "                b_min = b_i\n",
    "\n",
    "            iters += 1\n",
    "            f_calculations += 1\n",
    "    \n",
    "    return (a_min, b_min), iters, f_calculations\n",
    "\n",
    "def gauss(fn: Callable, a_range: tuple[float, float], b_range: tuple[float, float], initial: tuple[float, float], epsilon: float):\n",
    "    #return minimize(lambda x: fn(*x), initial, bounds=[a_range, b_range], method='CG')\n",
    "\n",
    "    a, b = initial\n",
    "    a_old, b_old = a, b\n",
    "    iters = 0\n",
    "    f_calculations = 0\n",
    "\n",
    "    while (fabs(a_old - a) + fabs(b_old - b)) / 2 > epsilon or iters == 0:\n",
    "        a_old, b_old = a, b\n",
    "        b, _, f_calculations_1 = golden_section_search(lambda x: fn(a, x), b_range, epsilon)\n",
    "        a, _, f_calculations_2 = golden_section_search(lambda x: fn(x, b), a_range, epsilon)\n",
    "        \n",
    "        iters += 1\n",
    "        f_calculations += f_calculations_1\n",
    "        f_calculations += f_calculations_2\n",
    "\n",
    "    return a, b, iters, f_calculations\n",
    "\n",
    "def nelder_mead(fn, initial):\n",
    "    return minimize(lambda x: fn(*x), initial, method=\"Nelder-Mead\")"
   ]
  },
  {
   "cell_type": "code",
   "execution_count": 674,
   "id": "7fe6f6b6",
   "metadata": {},
   "outputs": [],
   "source": [
    "linear_optimization = lambda a, b: least_squares(linear, y, a, b, k)"
   ]
  },
  {
   "cell_type": "code",
   "execution_count": 675,
   "id": "ca84af9d",
   "metadata": {},
   "outputs": [],
   "source": [
    "(exhaustive_a_min, exhaustive_b_min), exhaustive_iters, exhaustive_f_calc = exhaustive_search_grid(\n",
    "    linear_optimization, (0, 1), (0, 1), 0.001)"
   ]
  },
  {
   "cell_type": "code",
   "execution_count": 676,
   "id": "e56169cb",
   "metadata": {},
   "outputs": [
    {
     "data": {
      "text/plain": [
       "(0.6207730400471081, 0.17568145747623568, 18, 612)"
      ]
     },
     "execution_count": 676,
     "metadata": {},
     "output_type": "execute_result"
    }
   ],
   "source": [
    "gauss_a_min, gauss_b_min, gauss_iters, gauss_f_calculations = gauss(linear_optimization, (0, 1), (0, 1), (0, 0), 0.001)\n",
    "\n",
    "gauss_a_min, gauss_b_min, gauss_iters, gauss_f_calculations"
   ]
  },
  {
   "cell_type": "code",
   "execution_count": 677,
   "id": "d1c40b89",
   "metadata": {},
   "outputs": [
    {
     "data": {
      "text/plain": [
       " final_simplex: (array([[0.6244017 , 0.17316694],\n",
       "       [0.62432348, 0.17321351],\n",
       "       [0.62443181, 0.17319895]]), array([124.02109483, 124.02109487, 124.02109493]))\n",
       "           fun: 124.02109483314892\n",
       "       message: 'Optimization terminated successfully.'\n",
       "          nfev: 129\n",
       "           nit: 68\n",
       "        status: 0\n",
       "       success: True\n",
       "             x: array([0.6244017 , 0.17316694])"
      ]
     },
     "execution_count": 677,
     "metadata": {},
     "output_type": "execute_result"
    }
   ],
   "source": [
    "nelder_mead_result = nelder_mead(linear_optimization, (0, 0))\n",
    "nelder_mead_a_min, nelder_mead_b_min = nelder_mead_result.x\n",
    "\n",
    "nelder_mead_result"
   ]
  },
  {
   "cell_type": "code",
   "execution_count": 678,
   "id": "e5823b15",
   "metadata": {},
   "outputs": [
    {
     "data": {
      "text/plain": [
       "<matplotlib.legend.Legend at 0xffff39fc5490>"
      ]
     },
     "execution_count": 678,
     "metadata": {},
     "output_type": "execute_result"
    },
    {
     "data": {
      "image/png": "[encoded data removed]",
      "text/plain": [
       "<Figure size 600x400 with 1 Axes>"
      ]
     },
     "metadata": {
      "needs_background": "light"
     },
     "output_type": "display_data"
    }
   ],
   "source": [
    "fig = plt.figure(dpi=100)\n",
    "ax = fig.add_subplot(1, 1, 1)\n",
    "    \n",
    "ax.scatter(range(k), y, zorder=1)\n",
    "ax.plot(range(k), [linear(x / k, alpha, beta) for x in range(k)], color='red', label=\"Truth\")\n",
    "ax.plot(range(k), [linear(x / k, exhaustive_a_min, exhaustive_b_min) for x in range(k)], color='green', label='Exhaustive search')\n",
    "ax.plot(range(k), [linear(x / k, gauss_a_min, gauss_b_min) for x in range(k)], color='yellow', linestyle='dashed', label='Gauss')\n",
    "ax.plot(range(k), [linear(x / k, nelder_mead_a_min, nelder_mead_b_min) for x in range(k)], color='purple', linestyle='dotted', label='Nelder-Mead')\n",
    "ax.legend()"
   ]
  },
  {
   "cell_type": "code",
   "execution_count": 679,
   "id": "ba9e4f16",
   "metadata": {},
   "outputs": [
    {
     "data": {
      "text/html": [
       "<div>\n",
       "<style scoped>\n",
       "    .dataframe tbody tr th:only-of-type {\n",
       "        vertical-align: middle;\n",
       "    }\n",
       "\n",
       "    .dataframe tbody tr th {\n",
       "        vertical-align: top;\n",
       "    }\n",
       "\n",
       "    .dataframe thead th {\n",
       "        text-align: right;\n",
       "    }\n",
       "</style>\n",
       "<table border=\"1\" class=\"dataframe\">\n",
       "  <thead>\n",
       "    <tr style=\"text-align: right;\">\n",
       "      <th></th>\n",
       "      <th>Method</th>\n",
       "      <th>$a_{min}$</th>\n",
       "      <th>$b_{min}$</th>\n",
       "      <th>Iterations</th>\n",
       "      <th>F-Calculations</th>\n",
       "    </tr>\n",
       "  </thead>\n",
       "  <tbody>\n",
       "    <tr>\n",
       "      <th>0</th>\n",
       "      <td>Exhaustive search</td>\n",
       "      <td>0.625000</td>\n",
       "      <td>0.173000</td>\n",
       "      <td>1002001</td>\n",
       "      <td>1002002</td>\n",
       "    </tr>\n",
       "    <tr>\n",
       "      <th>1</th>\n",
       "      <td>Gauss method</td>\n",
       "      <td>0.620773</td>\n",
       "      <td>0.175681</td>\n",
       "      <td>18</td>\n",
       "      <td>612</td>\n",
       "    </tr>\n",
       "    <tr>\n",
       "      <th>2</th>\n",
       "      <td>Nelder-Mead method</td>\n",
       "      <td>0.624402</td>\n",
       "      <td>0.173167</td>\n",
       "      <td>68</td>\n",
       "      <td>129</td>\n",
       "    </tr>\n",
       "  </tbody>\n",
       "</table>\n",
       "</div>"
      ],
      "text/plain": [
       "               Method  $a_{min}$  $b_{min}$  Iterations  F-Calculations\n",
       "0   Exhaustive search   0.625000   0.173000     1002001         1002002\n",
       "1        Gauss method   0.620773   0.175681          18             612\n",
       "2  Nelder-Mead method   0.624402   0.173167          68             129"
      ]
     },
     "execution_count": 679,
     "metadata": {},
     "output_type": "execute_result"
    }
   ],
   "source": [
    "pd.DataFrame(\n",
    "    [\n",
    "        ['Exhaustive search', exhaustive_a_min, exhaustive_b_min, exhaustive_iters, exhaustive_f_calc],\n",
    "        ['Gauss method', gauss_a_min, gauss_b_min, gauss_iters, gauss_f_calculations],\n",
    "        ['Nelder-Mead method', nelder_mead_a_min, nelder_mead_b_min, nelder_mead_result.nit, nelder_mead_result.nfev]\n",
    "    ],\n",
    "    columns=['Method', '$a_{min}$', '$b_{min}$', 'Iterations', 'F-Calculations']\n",
    ")"
   ]
  },
  {
   "cell_type": "code",
   "execution_count": 680,
   "id": "cbc09a88",
   "metadata": {},
   "outputs": [],
   "source": [
    "rational_optimization = lambda a, b: least_squares(rational, y, a, b, k)"
   ]
  },
  {
   "cell_type": "code",
   "execution_count": 681,
   "id": "a2174943",
   "metadata": {},
   "outputs": [],
   "source": [
    "(exhaustive_a_min, exhaustive_b_min), exhaustive_iters, exhaustive_f_calc = exhaustive_search_grid(\n",
    "    rational_optimization, (0, 1), (0, 1), 0.001)"
   ]
  },
  {
   "cell_type": "code",
   "execution_count": 683,
   "id": "b5d19ceb",
   "metadata": {},
   "outputs": [
    {
     "data": {
      "text/plain": [
       "(0.4822724876167185, 0.000366568717928702, 4, 136)"
      ]
     },
     "execution_count": 683,
     "metadata": {},
     "output_type": "execute_result"
    }
   ],
   "source": [
    "gauss_a_min, gauss_b_min, gauss_iters, gauss_f_calculations = gauss(rational_optimization, (0, 1), (0, 1), (0, 0), 0.001)\n",
    "\n",
    "gauss_a_min, gauss_b_min, gauss_iters, gauss_f_calculations"
   ]
  },
  {
   "cell_type": "code",
   "execution_count": 684,
   "id": "7f3cf034",
   "metadata": {},
   "outputs": [
    {
     "data": {
      "text/plain": [
       " final_simplex: (array([[ 0.27790851, -0.72036088],\n",
       "       [ 0.27788773, -0.72035196],\n",
       "       [ 0.27795522, -0.72028694]]), array([123.35306497, 123.35306503, 123.35306516]))\n",
       "           fun: 123.35306497121627\n",
       "       message: 'Optimization terminated successfully.'\n",
       "          nfev: 117\n",
       "           nit: 60\n",
       "        status: 0\n",
       "       success: True\n",
       "             x: array([ 0.27790851, -0.72036088])"
      ]
     },
     "execution_count": 684,
     "metadata": {},
     "output_type": "execute_result"
    }
   ],
   "source": [
    "nelder_mead_result = nelder_mead(rational_optimization, (0, 0))\n",
    "nelder_mead_a_min, nelder_mead_b_min = nelder_mead_result.x\n",
    "\n",
    "nelder_mead_result"
   ]
  },
  {
   "cell_type": "code",
   "execution_count": 685,
   "id": "4ec1c0b7",
   "metadata": {},
   "outputs": [
    {
     "data": {
      "text/plain": [
       "<matplotlib.legend.Legend at 0xffff3a02d970>"
      ]
     },
     "execution_count": 685,
     "metadata": {},
     "output_type": "execute_result"
    },
    {
     "data": {
      "image/png": "[encoded data removed]",
      "text/plain": [
       "<Figure size 600x400 with 1 Axes>"
      ]
     },
     "metadata": {
      "needs_background": "light"
     },
     "output_type": "display_data"
    }
   ],
   "source": [
    "fig = plt.figure(dpi=100)\n",
    "ax = fig.add_subplot(1, 1, 1)\n",
    "    \n",
    "ax.scatter(range(k), y, zorder=1)\n",
    "ax.plot(range(k), [linear(x / k, alpha, beta) for x in range(k)], color='red', label=\"Truth\")\n",
    "ax.plot(range(k), [rational(x / k, exhaustive_a_min, exhaustive_b_min) for x in range(k)], color='green', label='Exhaustive search')\n",
    "ax.plot(range(k), [rational(x / k, gauss_a_min, gauss_b_min) for x in range(k)], color='yellow', linestyle='dashed', label='Gauss')\n",
    "ax.plot(range(k), [rational(x / k, nelder_mead_a_min, nelder_mead_b_min) for x in range(k)], color='purple', linestyle='dotted', label='Nelder-Mead')\n",
    "ax.legend()"
   ]
  },
  {
   "cell_type": "code",
   "execution_count": 686,
   "id": "e7a69ade",
   "metadata": {},
   "outputs": [
    {
     "data": {
      "text/html": [
       "<div>\n",
       "<style scoped>\n",
       "    .dataframe tbody tr th:only-of-type {\n",
       "        vertical-align: middle;\n",
       "    }\n",
       "\n",
       "    .dataframe tbody tr th {\n",
       "        vertical-align: top;\n",
       "    }\n",
       "\n",
       "    .dataframe thead th {\n",
       "        text-align: right;\n",
       "    }\n",
       "</style>\n",
       "<table border=\"1\" class=\"dataframe\">\n",
       "  <thead>\n",
       "    <tr style=\"text-align: right;\">\n",
       "      <th></th>\n",
       "      <th>Method</th>\n",
       "      <th>$a_{min}$</th>\n",
       "      <th>$b_{min}$</th>\n",
       "      <th>Iterations</th>\n",
       "      <th>F-Calculations</th>\n",
       "    </tr>\n",
       "  </thead>\n",
       "  <tbody>\n",
       "    <tr>\n",
       "      <th>0</th>\n",
       "      <td>Exhaustive search</td>\n",
       "      <td>0.482000</td>\n",
       "      <td>0.000000</td>\n",
       "      <td>1002001</td>\n",
       "      <td>1002002</td>\n",
       "    </tr>\n",
       "    <tr>\n",
       "      <th>1</th>\n",
       "      <td>Gauss method</td>\n",
       "      <td>0.482272</td>\n",
       "      <td>0.000367</td>\n",
       "      <td>4</td>\n",
       "      <td>136</td>\n",
       "    </tr>\n",
       "    <tr>\n",
       "      <th>2</th>\n",
       "      <td>Nelder-Mead method</td>\n",
       "      <td>0.277909</td>\n",
       "      <td>-0.720361</td>\n",
       "      <td>60</td>\n",
       "      <td>117</td>\n",
       "    </tr>\n",
       "  </tbody>\n",
       "</table>\n",
       "</div>"
      ],
      "text/plain": [
       "               Method  $a_{min}$  $b_{min}$  Iterations  F-Calculations\n",
       "0   Exhaustive search   0.482000   0.000000     1002001         1002002\n",
       "1        Gauss method   0.482272   0.000367           4             136\n",
       "2  Nelder-Mead method   0.277909  -0.720361          60             117"
      ]
     },
     "execution_count": 686,
     "metadata": {},
     "output_type": "execute_result"
    }
   ],
   "source": [
    "pd.DataFrame(\n",
    "    [\n",
    "        ['Exhaustive search', exhaustive_a_min, exhaustive_b_min, exhaustive_iters, exhaustive_f_calc],\n",
    "        ['Gauss method', gauss_a_min, gauss_b_min, gauss_iters, gauss_f_calculations],\n",
    "        ['Nelder-Mead method', nelder_mead_a_min, nelder_mead_b_min, nelder_mead_result.nit, nelder_mead_result.nfev]\n",
    "    ],\n",
    "    columns=['Method', '$a_{min}$', '$b_{min}$', 'Iterations', 'F-Calculations']\n",
    ")"
   ]
  }
 ],
 "metadata": {
  "kernelspec": {
   "display_name": "Python 3 (ipykernel)",
   "language": "python",
   "name": "python3"
  },
  "language_info": {
   "codemirror_mode": {
    "name": "ipython",
    "version": 3
   },
   "file_extension": ".py",
   "mimetype": "text/x-python",
   "name": "python",
   "nbconvert_exporter": "python",
   "pygments_lexer": "ipython3",
   "version": "3.9.12"
  }
 },
 "nbformat": 4,
 "nbformat_minor": 5
}
